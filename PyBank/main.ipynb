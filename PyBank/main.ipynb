{
 "cells": [
  {
   "cell_type": "code",
   "execution_count": 1,
   "id": "005a390e-97ce-4871-8450-76219c34706d",
   "metadata": {},
   "outputs": [],
   "source": [
    "\"\"\"\n",
    "\n",
    "This script will use the Pathlib library to set the file path,\n",
    "use the csv library to read in the file, iterate over each\n",
    "row of the file to calculate the total months, net total and\n",
    "average profit/loss, the greatest increase and decrease in the\n",
    "profits, and write the metrics to a text file.\n",
    "\n",
    "\"\"\"\n",
    "\n",
    "# Import the pathlib and csv library\n",
    "from pathlib import Path\n",
    "import csv"
   ]
  },
  {
   "cell_type": "code",
   "execution_count": 2,
   "id": "ab2c6b77-068a-4ffd-841c-9da64abafc97",
   "metadata": {},
   "outputs": [
    {
     "data": {
      "text/plain": [
       "WindowsPath('Resources/budget_data.csv')"
      ]
     },
     "execution_count": 2,
     "metadata": {},
     "output_type": "execute_result"
    }
   ],
   "source": [
    "# Set the file path\n",
    "csvpath = Path(\"./Resources/budget_data.csv\")\n",
    "\n",
    "csvpath"
   ]
  },
  {
   "cell_type": "code",
   "execution_count": 3,
   "id": "caf7c5f9-74f0-4529-be57-0f7939e0687f",
   "metadata": {},
   "outputs": [
    {
     "name": "stdout",
     "output_type": "stream",
     "text": [
      "['Date', 'Profit/Losses'] <---- HEADER\n",
      "['Feb-2017', 671099]\n",
      "-2315.1176470588234\n"
     ]
    }
   ],
   "source": [
    "# Open the input path as a file object\n",
    "with open(csvpath, 'r') as csvfile:\n",
    "\n",
    "    # Pass in the csv file to the csv.reader() function\n",
    "    # (with ',' as the delimiter/separator) and return the csvreader object\n",
    "    csvreader = csv.reader(csvfile, delimiter=',')\n",
    "   \n",
    "    # Go to the next row from the start of the file\n",
    "    # (which is often the first row/header) and iterate line_num by 1\n",
    "    header = next(csvreader)\n",
    "    \n",
    "    # Print the header\n",
    "    print(f\"{header} <---- HEADER\")\n",
    "\n",
    "    line_num = 0\n",
    "    total = 0\n",
    "    Difference = 0\n",
    "    prev_profit = 0\n",
    "    all_difference = []\n",
    "    max_profit = -9999999999\n",
    "    max_profit_month = \"\"\n",
    "    min_profit = 99999999999\n",
    "    min_profit_month = \"\"\n",
    "    \n",
    "    # Read each row of data after the header\n",
    "    for row in csvreader:\n",
    "        row[1] = int(row[1])\n",
    "        line_num += 1\n",
    "        total += row[1]\n",
    "        if line_num != 1:\n",
    "            Difference = row[1] - prev_profit\n",
    "            all_difference.append(Difference)\n",
    "            if max_profit<Difference:\n",
    "                max_profit=Difference\n",
    "                max_profit_month=row[0]\n",
    "\n",
    "            if min_profit>Difference:\n",
    "                min_profit=Difference\n",
    "                min_profit_month=row[0]\n",
    "        prev_profit = row[1]\n",
    "        # Print the row\n",
    "print(row)\n",
    "print(sum(all_difference)/(line_num-1))\n",
    "        "
   ]
  },
  {
   "cell_type": "code",
   "execution_count": 4,
   "id": "383edc30-d1ba-4dca-b37e-148a92fae5ca",
   "metadata": {},
   "outputs": [
    {
     "name": "stdout",
     "output_type": "stream",
     "text": [
      "\n",
      "Financial Analysis\n",
      "----------------------------\n",
      "    Total Months: 86\n",
      "    Total: $38,382,578\n",
      "    Average  Change: $-2,315.12\n",
      "    Greatest Increase in Profits: Feb-2012 ($1,926,159)\n",
      "    Greatest Decrease in Profits: Sep-2013 ($-2,196,167)\n",
      "\n"
     ]
    }
   ],
   "source": [
    "print(f\"\"\"\n",
    "Financial Analysis\n",
    "----------------------------\n",
    "    Total Months: {line_num}\n",
    "    Total: ${total:,.0f}\n",
    "    Average  Change: ${sum(all_difference)/(line_num-1):,.2f}\n",
    "    Greatest Increase in Profits: {max_profit_month} (${max_profit:,.0f})\n",
    "    Greatest Decrease in Profits: {min_profit_month} (${min_profit:,.0f})\n",
    "\"\"\")"
   ]
  },
  {
   "cell_type": "code",
   "execution_count": null,
   "id": "7df2330d-3868-4e76-b3bb-653d9c34e29d",
   "metadata": {},
   "outputs": [],
   "source": []
  }
 ],
 "metadata": {
  "kernelspec": {
   "display_name": "Python 3",
   "language": "python",
   "name": "python3"
  },
  "language_info": {
   "codemirror_mode": {
    "name": "ipython",
    "version": 3
   },
   "file_extension": ".py",
   "mimetype": "text/x-python",
   "name": "python",
   "nbconvert_exporter": "python",
   "pygments_lexer": "ipython3",
   "version": "3.8.8"
  }
 },
 "nbformat": 4,
 "nbformat_minor": 5
}
